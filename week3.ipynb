{
  "nbformat": 4,
  "nbformat_minor": 0,
  "metadata": {
    "colab": {
      "provenance": [],
      "authorship_tag": "ABX9TyM7n2NHS3qYpoYamgezLN6r",
      "include_colab_link": true
    },
    "kernelspec": {
      "name": "python3",
      "display_name": "Python 3"
    },
    "language_info": {
      "name": "python"
    }
  },
  "cells": [
    {
      "cell_type": "markdown",
      "metadata": {
        "id": "view-in-github",
        "colab_type": "text"
      },
      "source": [
        "<a href=\"https://colab.research.google.com/github/mohamadFikry/PCVK/blob/main/week3.ipynb\" target=\"_parent\"><img src=\"https://colab.research.google.com/assets/colab-badge.svg\" alt=\"Open In Colab\"/></a>"
      ]
    },
    {
      "cell_type": "code",
      "execution_count": null,
      "metadata": {
        "id": "cxuEBQYqD4vv"
      },
      "outputs": [],
      "source": [
        "from google.colab import drive\n",
        "drive.mount('/content/drive')"
      ]
    },
    {
      "cell_type": "code",
      "source": [
        "import cv2 as cv\n",
        "from google.colab.patches import cv2_imshow\n",
        "from skimage import io\n",
        "import matplotlib.pyplot as plt\n",
        "import numpy as np\n",
        "\n",
        "print('Mengubah tingkat kecerahan citra')\n",
        "print('--------------------------------')\n",
        "try:\n",
        "  brightness = int(input('Masukan nilai kecerahan:'))\n",
        "except ValueError: print('Error, not a number')\n",
        "\n",
        "original = cv.imread('/content/drive/MyDrive/pexels-lynxexotics-3954422.jpg')\n",
        "if original is None:\n",
        "  print('Error: Could not load image. Please check the file path.')\n",
        "else:\n",
        "  brightness_image = np.zeros(original.shape, original.dtype)\n",
        "\n",
        "#akses per piksel\n",
        "#for y in range(original.shape[0]):\n",
        "  #for x in range(original.shape[1]):\n",
        "    #for c in range(original.shape[2]): brightness_image[y,x,c] = np.clip(original[y,x,c] + brightness, 0, 255)\n",
        "\n",
        "#cara simpel tanpa for loop\n",
        "brightness_image = cv.convertScaleAbs(original, beta=brightness)\n",
        "final_frame = cv.hconcat((original, brightness_image))\n",
        "\n",
        "cv2_imshow(final_frame)"
      ],
      "metadata": {
        "colab": {
          "base_uri": "https://localhost:8080/",
          "height": 245
        },
        "id": "S-oR7AoaD-js",
        "outputId": "6ce13906-10ce-4640-853c-b78194aef4fe"
      },
      "execution_count": 4,
      "outputs": [
        {
          "output_type": "stream",
          "name": "stdout",
          "text": [
            "Mengubah tingkat kecerahan citra\n",
            "--------------------------------\n",
            "Masukan nilai kecerahan:50\n",
            "Error: Could not load image. Please check the file path.\n"
          ]
        },
        {
          "output_type": "error",
          "ename": "NameError",
          "evalue": "name 'cv_imshow' is not defined",
          "traceback": [
            "\u001b[0;31m---------------------------------------------------------------------------\u001b[0m",
            "\u001b[0;31mNameError\u001b[0m                                 Traceback (most recent call last)",
            "\u001b[0;32m<ipython-input-4-32d71baa5dfe>\u001b[0m in \u001b[0;36m<cell line: 28>\u001b[0;34m()\u001b[0m\n\u001b[1;32m     26\u001b[0m \u001b[0mfinal_frame\u001b[0m \u001b[0;34m=\u001b[0m \u001b[0mcv\u001b[0m\u001b[0;34m.\u001b[0m\u001b[0mhconcat\u001b[0m\u001b[0;34m(\u001b[0m\u001b[0;34m(\u001b[0m\u001b[0moriginal\u001b[0m\u001b[0;34m,\u001b[0m \u001b[0mbrightness_image\u001b[0m\u001b[0;34m)\u001b[0m\u001b[0;34m)\u001b[0m\u001b[0;34m\u001b[0m\u001b[0;34m\u001b[0m\u001b[0m\n\u001b[1;32m     27\u001b[0m \u001b[0;34m\u001b[0m\u001b[0m\n\u001b[0;32m---> 28\u001b[0;31m \u001b[0mcv_imshow\u001b[0m\u001b[0;34m(\u001b[0m\u001b[0mfinal_frame\u001b[0m\u001b[0;34m)\u001b[0m\u001b[0;34m\u001b[0m\u001b[0;34m\u001b[0m\u001b[0m\n\u001b[0m",
            "\u001b[0;31mNameError\u001b[0m: name 'cv_imshow' is not defined"
          ]
        }
      ]
    }
  ]
}