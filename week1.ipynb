{
  "nbformat": 4,
  "nbformat_minor": 0,
  "metadata": {
    "colab": {
      "provenance": [],
      "authorship_tag": "ABX9TyOv/hgSLHYyA1rxWU3pGRsj",
      "include_colab_link": true
    },
    "kernelspec": {
      "name": "python3",
      "display_name": "Python 3"
    },
    "language_info": {
      "name": "python"
    }
  },
  "cells": [
    {
      "cell_type": "markdown",
      "metadata": {
        "id": "view-in-github",
        "colab_type": "text"
      },
      "source": [
        "<a href=\"https://colab.research.google.com/github/mohamadFikry/PCVK/blob/main/week1.ipynb\" target=\"_parent\"><img src=\"https://colab.research.google.com/assets/colab-badge.svg\" alt=\"Open In Colab\"/></a>"
      ]
    },
    {
      "cell_type": "code",
      "execution_count": null,
      "metadata": {
        "id": "gGp8Hiy8jAy2"
      },
      "outputs": [],
      "source": [
        "import numpy as np\n",
        "import pandas as pd\n",
        "import cv2 as cv\n",
        "from google.colab.patches import cv2_imshow # for image display\n",
        "from skimage import io\n",
        "from skimage import transform\n",
        "from PIL import image\n",
        "from matplotlib.pylab as plt\n",
        "\n",
        "#membuat list untuk menyimpan url dari beberapa image\n",
        "urls = [\"https://cdnwpedutorenews.gramedia.net/wp-content/uploads/2023/05/15171244/bagian-bunga-sepatu.jpg\",\n",
        "        \"https://images.pexels.com/photos/25556741/pexels-photo-25556741/free-photo-of-birds-eye-view-of-castle-howard.jpeg?auto=compress&cs=tinysrgb&w=1260&h=750&dpr=2\",\n",
        "        \"https://images.pexels.com/photos/7993049/pexels-photo-7993049.jpeg?auto=compress&cs=tinysrgb&w=1260&h=750&dpr=2\"]\n",
        "for url in url:\n",
        "  image = io.imread(url)\n",
        "  image = cv.resize(image, (0,0), fx=0.5, fy=0.5)\n",
        "  image_2 = cv.cvtColor(image, cv.COLOR_BGR2RGB)\n",
        "  final_frame = cv.hconcat((image, image_2))\n",
        "  cv2_imshow(final_frame)\n",
        "  print('\\n')"
      ]
    }
  ]
}